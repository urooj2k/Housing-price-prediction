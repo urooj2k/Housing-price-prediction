{
  "cells": [
    {
      "cell_type": "code",
      "execution_count": null,
      "metadata": {
        "id": "5Sw7Wljzt-Ga"
      },
      "outputs": [],
      "source": [
        "\n",
        "# Import Libraries\n",
        "import numpy as np\n",
        "import pandas as pd\n",
        "import matplotlib.pyplot as plt\n",
        "\n",
        "from sklearn.model_selection import train_test_split\n",
        "from sklearn.preprocessing import StandardScaler, OneHotEncoder\n",
        "from sklearn.compose import ColumnTransformer\n",
        "from sklearn.pipeline import Pipeline\n",
        "from sklearn.metrics import mean_squared_error, r2_score\n",
        "\n",
        "from sklearn.linear_model import LinearRegression\n",
        "from sklearn.preprocessing import PolynomialFeatures\n",
        "from sklearn.tree import DecisionTreeRegressor\n",
        "from sklearn.ensemble import RandomForestRegressor\n",
        "from sklearn.svm import SVR\n",
        "from sklearn.neighbors import KNeighborsRegressor\n",
        "from xgboost import XGBRegressor\n"
      ]
    },
    {
      "cell_type": "code",
      "execution_count": null,
      "metadata": {
        "id": "lEWT34L6vJZY"
      },
      "outputs": [],
      "source": [
        "# Load data\n",
        "df = pd.read_csv(\"Housing.csv\")\n",
        "\n",
        "# Drop 'furnishingstatus' (multi-label text)\n",
        "df = df.drop(\"furnishingstatus\", axis=1)\n",
        "\n",
        "# Log-transform 'area' and target 'price'\n",
        "df[\"area\"] = np.log1p(df[\"area\"])\n",
        "df[\"price_log\"] = np.log1p(df[\"price\"])\n",
        "\n",
        "X = df.drop([\"price\", \"price_log\"], axis=1)\n",
        "y = df[\"price_log\"]"
      ]
    },
    {
      "cell_type": "code",
      "execution_count": null,
      "metadata": {
        "colab": {
          "base_uri": "https://localhost:8080/"
        },
        "id": "NaZ-AiS036Gk",
        "outputId": "1f380af1-d297-496d-b75a-29ced86e329f"
      },
      "outputs": [
        {
          "name": "stdout",
          "output_type": "stream",
          "text": [
            "         area  bedrooms  bathrooms  stories mainroad guestroom basement  \\\n",
            "0    8.912069         4          2        3      yes        no       no   \n",
            "1    9.100637         4          4        4      yes        no       no   \n",
            "2    9.206433         3          2        2      yes        no      yes   \n",
            "3    8.922792         4          2        2      yes        no      yes   \n",
            "4    8.912069         4          1        2      yes       yes      yes   \n",
            "..        ...       ...        ...      ...      ...       ...      ...   \n",
            "540  8.006701         2          1        1      yes        no      yes   \n",
            "541  7.783641         3          1        1       no        no       no   \n",
            "542  8.194506         2          1        1      yes        no       no   \n",
            "543  7.976252         3          1        1       no        no       no   \n",
            "544  8.256088         3          1        2      yes        no       no   \n",
            "\n",
            "    hotwaterheating airconditioning  parking prefarea  \n",
            "0                no             yes        2      yes  \n",
            "1                no             yes        3       no  \n",
            "2                no              no        2      yes  \n",
            "3                no             yes        3      yes  \n",
            "4                no             yes        2       no  \n",
            "..              ...             ...      ...      ...  \n",
            "540              no              no        2       no  \n",
            "541              no              no        0       no  \n",
            "542              no              no        0       no  \n",
            "543              no              no        0       no  \n",
            "544              no              no        0       no  \n",
            "\n",
            "[545 rows x 11 columns]\n"
          ]
        }
      ],
      "source": [
        "print(X)"
      ]
    },
    {
      "cell_type": "code",
      "execution_count": null,
      "metadata": {
        "colab": {
          "base_uri": "https://localhost:8080/"
        },
        "id": "0WLZrvfS38Nn",
        "outputId": "53efef41-ddfe-4540-f79e-cd97e81b899c"
      },
      "outputs": [
        {
          "name": "stdout",
          "output_type": "stream",
          "text": [
            "0      16.403275\n",
            "1      16.321037\n",
            "2      16.321037\n",
            "3      16.318175\n",
            "4      16.250001\n",
            "         ...    \n",
            "540    14.414348\n",
            "541    14.384879\n",
            "542    14.375127\n",
            "543    14.375127\n",
            "544    14.375127\n",
            "Name: price_log, Length: 545, dtype: float64\n"
          ]
        }
      ],
      "source": [
        "print(y)"
      ]
    },
    {
      "cell_type": "code",
      "execution_count": null,
      "metadata": {
        "colab": {
          "base_uri": "https://localhost:8080/"
        },
        "id": "eDJRIfl1vLHL",
        "outputId": "eb2a9ac1-be4c-4250-ebdf-afcaa5a1059e"
      },
      "outputs": [
        {
          "name": "stdout",
          "output_type": "stream",
          "text": [
            "Results\n",
            "Linear Regression: RMSE=1326880.84, R2=0.65\n",
            "Polynomial Regression (deg=2): RMSE=1449426.04, R2=0.58\n",
            "Decision Tree: RMSE=1546966.19, R2=0.53\n",
            "Random Forest: RMSE=1441345.89, R2=0.59\n",
            "Support Vector Regressor: RMSE=1441523.84, R2=0.59\n",
            "KNN Regressor: RMSE=1498433.40, R2=0.56\n",
            "XGBoost: RMSE=1464812.73, R2=0.58\n"
          ]
        }
      ],
      "source": [
        "# Identify categorical and numeric columns\n",
        "categorical_cols = X.select_dtypes(include=[\"object\"]).columns   # yes/no columns\n",
        "numeric_cols = X.select_dtypes(exclude=[\"object\"]).columns\n",
        "\n",
        "# Preprocessing\n",
        "preprocessor = ColumnTransformer([\n",
        "    (\"num\", StandardScaler(), numeric_cols),\n",
        "    (\"one\", OneHotEncoder(drop=\"if_binary\"), categorical_cols)\n",
        "])\n",
        "\n",
        "# Train-Test Split\n",
        "X_train, X_test, y_train, y_test = train_test_split(X, y, test_size=0.2, random_state=42)\n",
        "\n",
        "def evaluate(model, name):\n",
        "    pipe = Pipeline(steps=[\n",
        "        (\"preprocessor\", preprocessor),\n",
        "        (\"model\", model)\n",
        "    ])\n",
        "    pipe.fit(X_train, y_train)\n",
        "    preds = pipe.predict(X_test)\n",
        "\n",
        "    # revert log transform for RMSE\n",
        "    y_true = np.expm1(y_test)\n",
        "    y_pred = np.expm1(preds)\n",
        "\n",
        "    rmse = np.sqrt(mean_squared_error(y_true, y_pred))\n",
        "    r2 = r2_score(y_true, y_pred)\n",
        "    print(f\"{name}: RMSE={rmse:.2f}, R2={r2:.2f}\")\n",
        "    return pipe\n",
        "\n",
        "models = {\n",
        "    \"Linear Regression\": LinearRegression(),\n",
        "    \"Polynomial Regression (deg=2)\": Pipeline([\n",
        "        (\"poly\", PolynomialFeatures(degree=2, include_bias=False)),\n",
        "        (\"linreg\", LinearRegression())\n",
        "    ]),\n",
        "    \"Decision Tree\": DecisionTreeRegressor(random_state=42),\n",
        "    \"Random Forest\": RandomForestRegressor(n_estimators=100, random_state=42),\n",
        "    \"Support Vector Regressor\": SVR(kernel=\"rbf\"),\n",
        "    \"KNN Regressor\": KNeighborsRegressor(n_neighbors=5),\n",
        "    \"XGBoost\": XGBRegressor(n_estimators=200, learning_rate=0.1, random_state=42)\n",
        "}\n",
        "\n",
        "print(\"Results\")\n",
        "\n",
        "for name, model in models.items():\n",
        "    evaluate(model, name)\n"
      ]
    }
  ],
  "metadata": {
    "colab": {
      "provenance": []
    },
    "kernelspec": {
      "display_name": "Python 3",
      "name": "python3"
    }
  },
  "nbformat": 4,
  "nbformat_minor": 0
}
